{
 "cells": [
  {
   "cell_type": "code",
   "execution_count": 44,
   "metadata": {},
   "outputs": [],
   "source": [
    "from keras.models import Sequential\n",
    "from keras.layers import Dense\n",
    "from keras.layers import Convolution2D\n",
    "from keras.layers import MaxPooling2D\n",
    "from keras.layers import Flatten"
   ]
  },
  {
   "cell_type": "code",
   "execution_count": 45,
   "metadata": {},
   "outputs": [],
   "source": [
    "from keras.preprocessing.image import ImageDataGenerator\n",
    "train_datagen=ImageDataGenerator(rescale=1./255,shear_range=0.2,zoom_range=0.2,horizontal_flip=True)\n",
    "test_datagen=ImageDataGenerator(rescale=1./25)"
   ]
  },
  {
   "cell_type": "code",
   "execution_count": 46,
   "metadata": {},
   "outputs": [
    {
     "name": "stdout",
     "output_type": "stream",
     "text": [
      "Found 3614 images belonging to 36 classes.\n",
      "Found 940 images belonging to 36 classes.\n"
     ]
    }
   ],
   "source": [
    "x_train=train_datagen.flow_from_directory(r\"E:\\june10-rsip\\MiniProject\\dataset2\\dataset2\\train\",target_size=(64,64),batch_size=32)\n",
    "x_test=test_datagen.flow_from_directory(r\"E:\\june10-rsip\\MiniProject\\dataset2\\dataset2\\test\",target_size=(64,64),batch_size=32)"
   ]
  },
  {
   "cell_type": "code",
   "execution_count": 47,
   "metadata": {},
   "outputs": [
    {
     "data": {
      "text/plain": [
       "{'0': 0,\n",
       " '1': 1,\n",
       " '2': 2,\n",
       " '3': 3,\n",
       " '4': 4,\n",
       " '5': 5,\n",
       " '6': 6,\n",
       " '7': 7,\n",
       " '8': 8,\n",
       " '9': 9,\n",
       " 'A': 10,\n",
       " 'B': 11,\n",
       " 'C': 12,\n",
       " 'D': 13,\n",
       " 'E': 14,\n",
       " 'F': 15,\n",
       " 'G': 16,\n",
       " 'H': 17,\n",
       " 'I': 18,\n",
       " 'J': 19,\n",
       " 'K': 20,\n",
       " 'L': 21,\n",
       " 'M': 22,\n",
       " 'N': 23,\n",
       " 'O': 24,\n",
       " 'P': 25,\n",
       " 'Q': 26,\n",
       " 'R': 27,\n",
       " 'S': 28,\n",
       " 'T': 29,\n",
       " 'U': 30,\n",
       " 'V': 31,\n",
       " 'W': 32,\n",
       " 'X': 33,\n",
       " 'Y': 34,\n",
       " 'Z': 35}"
      ]
     },
     "execution_count": 47,
     "metadata": {},
     "output_type": "execute_result"
    }
   ],
   "source": [
    "x_train.class_indices"
   ]
  },
  {
   "cell_type": "code",
   "execution_count": 48,
   "metadata": {},
   "outputs": [],
   "source": [
    "model=Sequential()"
   ]
  },
  {
   "cell_type": "code",
   "execution_count": 49,
   "metadata": {},
   "outputs": [],
   "source": [
    "model.add(Convolution2D(32,(3,3),input_shape = (64,64,3),activation=\"relu\"))"
   ]
  },
  {
   "cell_type": "code",
   "execution_count": 50,
   "metadata": {},
   "outputs": [],
   "source": [
    "model.add(MaxPooling2D(pool_size=(2,2)))"
   ]
  },
  {
   "cell_type": "code",
   "execution_count": 51,
   "metadata": {},
   "outputs": [],
   "source": [
    "model.add( Flatten())#input layer"
   ]
  },
  {
   "cell_type": "code",
   "execution_count": 52,
   "metadata": {},
   "outputs": [
    {
     "name": "stderr",
     "output_type": "stream",
     "text": [
      "C:\\ProgramData\\Anaconda3\\lib\\site-packages\\ipykernel_launcher.py:1: UserWarning: Update your `Dense` call to the Keras 2 API: `Dense(units=128, activation=\"relu\", kernel_initializer=\"uniform\")`\n",
      "  \"\"\"Entry point for launching an IPython kernel.\n"
     ]
    }
   ],
   "source": [
    "model.add(Dense(units=128,init=\"uniform\",activation=\"relu\"))"
   ]
  },
  {
   "cell_type": "code",
   "execution_count": 53,
   "metadata": {},
   "outputs": [
    {
     "name": "stderr",
     "output_type": "stream",
     "text": [
      "C:\\ProgramData\\Anaconda3\\lib\\site-packages\\ipykernel_launcher.py:1: UserWarning: Update your `Dense` call to the Keras 2 API: `Dense(units=36, activation=\"relu\", kernel_initializer=\"uniform\")`\n",
      "  \"\"\"Entry point for launching an IPython kernel.\n"
     ]
    }
   ],
   "source": [
    "model.add(Dense(units=36,init=\"uniform\",activation=\"relu\"))"
   ]
  },
  {
   "cell_type": "code",
   "execution_count": 54,
   "metadata": {},
   "outputs": [
    {
     "name": "stderr",
     "output_type": "stream",
     "text": [
      "C:\\ProgramData\\Anaconda3\\lib\\site-packages\\ipykernel_launcher.py:1: UserWarning: Update your `Dense` call to the Keras 2 API: `Dense(units=36, activation=\"softmax\", kernel_initializer=\"uniform\")`\n",
      "  \"\"\"Entry point for launching an IPython kernel.\n"
     ]
    }
   ],
   "source": [
    "model.add(Dense(units=36,init=\"uniform\",activation=\"softmax\"))"
   ]
  },
  {
   "cell_type": "code",
   "execution_count": 55,
   "metadata": {},
   "outputs": [],
   "source": [
    "model.compile(loss=\"categorical_crossentropy\",optimizer=\"adam\",metrics=[\"accuracy\"])"
   ]
  },
  {
   "cell_type": "code",
   "execution_count": 56,
   "metadata": {},
   "outputs": [
    {
     "name": "stdout",
     "output_type": "stream",
     "text": [
      "Epoch 1/50\n",
      "49/49 [==============================] - 11s 232ms/step - loss: 3.0916 - acc: 0.1148 - val_loss: 4.2499 - val_acc: 0.2203\n",
      "Epoch 2/50\n",
      "49/49 [==============================] - 10s 213ms/step - loss: 2.3150 - acc: 0.3323 - val_loss: 5.4344 - val_acc: 0.2984\n",
      "Epoch 3/50\n",
      "49/49 [==============================] - 11s 218ms/step - loss: 1.7965 - acc: 0.4629 - val_loss: 4.7292 - val_acc: 0.5097\n",
      "Epoch 4/50\n",
      "49/49 [==============================] - 11s 216ms/step - loss: 1.2975 - acc: 0.6333 - val_loss: 4.1183 - val_acc: 0.6531\n",
      "Epoch 5/50\n",
      "49/49 [==============================] - 11s 218ms/step - loss: 0.9738 - acc: 0.7153 - val_loss: 3.1633 - val_acc: 0.7323\n",
      "Epoch 6/50\n",
      "49/49 [==============================] - 10s 212ms/step - loss: 0.7269 - acc: 0.7838 - val_loss: 2.9548 - val_acc: 0.7355\n",
      "Epoch 7/50\n",
      "49/49 [==============================] - 11s 221ms/step - loss: 0.4999 - acc: 0.8441 - val_loss: 2.8313 - val_acc: 0.7406\n",
      "Epoch 8/50\n",
      "49/49 [==============================] - 11s 221ms/step - loss: 0.4589 - acc: 0.8457 - val_loss: 3.3394 - val_acc: 0.7226\n",
      "Epoch 9/50\n",
      "49/49 [==============================] - 11s 219ms/step - loss: 0.4083 - acc: 0.8737 - val_loss: 2.9625 - val_acc: 0.7839\n",
      "Epoch 10/50\n",
      "49/49 [==============================] - 11s 225ms/step - loss: 0.3579 - acc: 0.8853 - val_loss: 3.8545 - val_acc: 0.7172\n",
      "Epoch 11/50\n",
      "49/49 [==============================] - 11s 224ms/step - loss: 0.2670 - acc: 0.9145 - val_loss: 3.3627 - val_acc: 0.7581\n",
      "Epoch 12/50\n",
      "49/49 [==============================] - 11s 225ms/step - loss: 0.2464 - acc: 0.9162 - val_loss: 3.4331 - val_acc: 0.7452\n",
      "Epoch 13/50\n",
      "49/49 [==============================] - 11s 231ms/step - loss: 0.1843 - acc: 0.9432 - val_loss: 2.3762 - val_acc: 0.8156\n",
      "Epoch 14/50\n",
      "49/49 [==============================] - 11s 234ms/step - loss: 0.1570 - acc: 0.9559 - val_loss: 3.1651 - val_acc: 0.7806\n",
      "Epoch 15/50\n",
      "49/49 [==============================] - 11s 227ms/step - loss: 0.2282 - acc: 0.9298 - val_loss: 3.7549 - val_acc: 0.7129\n",
      "Epoch 16/50\n",
      "49/49 [==============================] - 11s 232ms/step - loss: 0.1150 - acc: 0.9656 - val_loss: 3.2754 - val_acc: 0.7688\n",
      "Epoch 17/50\n",
      "49/49 [==============================] - 11s 231ms/step - loss: 0.1198 - acc: 0.9592 - val_loss: 3.4472 - val_acc: 0.7613\n",
      "Epoch 18/50\n",
      "49/49 [==============================] - 11s 232ms/step - loss: 0.1237 - acc: 0.9630 - val_loss: 4.1359 - val_acc: 0.7081\n",
      "Epoch 19/50\n",
      "49/49 [==============================] - 11s 225ms/step - loss: 0.1308 - acc: 0.9591 - val_loss: 4.1646 - val_acc: 0.6937\n",
      "Epoch 20/50\n",
      "49/49 [==============================] - 11s 223ms/step - loss: 0.0811 - acc: 0.9745 - val_loss: 4.0265 - val_acc: 0.7113\n",
      "Epoch 21/50\n",
      "49/49 [==============================] - 11s 223ms/step - loss: 0.1221 - acc: 0.9566 - val_loss: 5.2315 - val_acc: 0.6113\n",
      "Epoch 22/50\n",
      "49/49 [==============================] - 11s 228ms/step - loss: 0.1014 - acc: 0.9643 - val_loss: 4.0572 - val_acc: 0.6516\n",
      "Epoch 23/50\n",
      "49/49 [==============================] - 11s 230ms/step - loss: 0.0835 - acc: 0.9713 - val_loss: 4.0320 - val_acc: 0.6935\n",
      "Epoch 24/50\n",
      "49/49 [==============================] - 11s 233ms/step - loss: 0.1303 - acc: 0.9554 - val_loss: 4.8388 - val_acc: 0.6710\n",
      "Epoch 25/50\n",
      "49/49 [==============================] - 11s 229ms/step - loss: 0.1063 - acc: 0.9662 - val_loss: 3.1706 - val_acc: 0.7250\n",
      "Epoch 26/50\n",
      "49/49 [==============================] - 12s 239ms/step - loss: 0.0768 - acc: 0.9719 - val_loss: 4.4941 - val_acc: 0.6323\n",
      "Epoch 27/50\n",
      "49/49 [==============================] - 11s 233ms/step - loss: 0.0502 - acc: 0.9853 - val_loss: 4.8709 - val_acc: 0.6597\n",
      "Epoch 28/50\n",
      "49/49 [==============================] - 11s 230ms/step - loss: 0.0504 - acc: 0.9885 - val_loss: 3.9733 - val_acc: 0.6984\n",
      "Epoch 29/50\n",
      "49/49 [==============================] - 11s 232ms/step - loss: 0.0664 - acc: 0.9809 - val_loss: 3.5186 - val_acc: 0.7355\n",
      "Epoch 30/50\n",
      "49/49 [==============================] - 11s 227ms/step - loss: 0.0493 - acc: 0.9879 - val_loss: 3.9376 - val_acc: 0.7065\n",
      "Epoch 31/50\n",
      "49/49 [==============================] - 11s 231ms/step - loss: 0.0317 - acc: 0.9911 - val_loss: 5.2628 - val_acc: 0.6469\n",
      "Epoch 32/50\n",
      "49/49 [==============================] - 11s 224ms/step - loss: 0.0411 - acc: 0.9853 - val_loss: 4.6731 - val_acc: 0.6613\n",
      "Epoch 33/50\n",
      "49/49 [==============================] - 11s 226ms/step - loss: 0.0513 - acc: 0.9860 - val_loss: 4.6424 - val_acc: 0.6355\n",
      "Epoch 34/50\n",
      "49/49 [==============================] - 11s 225ms/step - loss: 0.0602 - acc: 0.9815 - val_loss: 5.0425 - val_acc: 0.6328\n",
      "Epoch 35/50\n",
      "49/49 [==============================] - 11s 231ms/step - loss: 0.0636 - acc: 0.9815 - val_loss: 4.1558 - val_acc: 0.6645\n",
      "Epoch 36/50\n",
      "49/49 [==============================] - 11s 227ms/step - loss: 0.0356 - acc: 0.9872 - val_loss: 5.1793 - val_acc: 0.6371\n",
      "Epoch 37/50\n",
      "49/49 [==============================] - 11s 228ms/step - loss: 0.0406 - acc: 0.9872 - val_loss: 5.8543 - val_acc: 0.5922\n",
      "Epoch 38/50\n",
      "49/49 [==============================] - 11s 229ms/step - loss: 0.0499 - acc: 0.9834 - val_loss: 5.3343 - val_acc: 0.6306\n",
      "Epoch 39/50\n",
      "49/49 [==============================] - 11s 219ms/step - loss: 0.0400 - acc: 0.9885 - val_loss: 5.6518 - val_acc: 0.6016\n",
      "Epoch 40/50\n",
      "49/49 [==============================] - 11s 226ms/step - loss: 0.0562 - acc: 0.9815 - val_loss: 6.0522 - val_acc: 0.5266\n",
      "Epoch 41/50\n",
      "49/49 [==============================] - 11s 230ms/step - loss: 0.0322 - acc: 0.9917 - val_loss: 5.9970 - val_acc: 0.5548\n",
      "Epoch 42/50\n",
      "49/49 [==============================] - 11s 221ms/step - loss: 0.0259 - acc: 0.9917 - val_loss: 6.0658 - val_acc: 0.5565\n",
      "Epoch 43/50\n",
      "49/49 [==============================] - 11s 233ms/step - loss: 0.0250 - acc: 0.9923 - val_loss: 5.8933 - val_acc: 0.5922\n",
      "Epoch 44/50\n",
      "49/49 [==============================] - 11s 224ms/step - loss: 0.0347 - acc: 0.9884 - val_loss: 4.7826 - val_acc: 0.6790\n",
      "Epoch 45/50\n",
      "49/49 [==============================] - 11s 224ms/step - loss: 0.0931 - acc: 0.9662 - val_loss: 5.1853 - val_acc: 0.6274\n",
      "Epoch 46/50\n",
      "49/49 [==============================] - 11s 230ms/step - loss: 0.0515 - acc: 0.9841 - val_loss: 5.5324 - val_acc: 0.6094\n",
      "Epoch 47/50\n",
      "49/49 [==============================] - 11s 225ms/step - loss: 0.0269 - acc: 0.9930 - val_loss: 6.2321 - val_acc: 0.5484\n",
      "Epoch 48/50\n",
      "49/49 [==============================] - 11s 228ms/step - loss: 0.0337 - acc: 0.9892 - val_loss: 7.1058 - val_acc: 0.4952\n",
      "Epoch 49/50\n",
      "49/49 [==============================] - 12s 241ms/step - loss: 0.0250 - acc: 0.9917 - val_loss: 2.9801 - val_acc: 0.7937\n",
      "Epoch 50/50\n",
      "49/49 [==============================] - 11s 232ms/step - loss: 0.0184 - acc: 0.9936 - val_loss: 5.9459 - val_acc: 0.5823\n"
     ]
    },
    {
     "data": {
      "text/plain": [
       "<keras.callbacks.History at 0x1bb80307ef0>"
      ]
     },
     "execution_count": 56,
     "metadata": {},
     "output_type": "execute_result"
    }
   ],
   "source": [
    "model.fit_generator(x_train,steps_per_epoch=49,validation_data=x_test,validation_steps=20,epochs=50)"
   ]
  },
  {
   "cell_type": "code",
   "execution_count": 57,
   "metadata": {},
   "outputs": [],
   "source": [
    "model.save(\"mini.h5\")"
   ]
  },
  {
   "cell_type": "code",
   "execution_count": null,
   "metadata": {},
   "outputs": [],
   "source": []
  },
  {
   "cell_type": "code",
   "execution_count": null,
   "metadata": {},
   "outputs": [],
   "source": []
  }
 ],
 "metadata": {
  "kernelspec": {
   "display_name": "Python 3",
   "language": "python",
   "name": "python3"
  },
  "language_info": {
   "codemirror_mode": {
    "name": "ipython",
    "version": 3
   },
   "file_extension": ".py",
   "mimetype": "text/x-python",
   "name": "python",
   "nbconvert_exporter": "python",
   "pygments_lexer": "ipython3",
   "version": "3.7.3"
  }
 },
 "nbformat": 4,
 "nbformat_minor": 2
}
